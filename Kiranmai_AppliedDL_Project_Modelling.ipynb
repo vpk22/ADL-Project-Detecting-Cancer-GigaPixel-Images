{
 "cells": [
  {
   "cell_type": "code",
   "execution_count": 2,
   "metadata": {
    "id": "xGiXuS6Wh5lW"
   },
   "outputs": [],
   "source": [
    "# Install the OpenSlide C library and Python bindings\n",
    "# After installing these libraries, use `Runtime -> restart and run all` on the menu\n",
    "# %%capture\n",
    "!sudo apt-get install openslide-tools\n",
    "!pip install openslide-python\n",
    "!pip install wandb"
   ]
  },
  {
   "cell_type": "code",
   "execution_count": 1,
   "metadata": {
    "id": "b_fzyXC23YSE"
   },
   "outputs": [
    {
     "name": "stdout",
     "output_type": "stream",
     "text": [
      "Tue Dec 27 22:10:27 2022       \n",
      "+-----------------------------------------------------------------------------+\n",
      "| NVIDIA-SMI 470.161.03   Driver Version: 470.161.03   CUDA Version: 11.4     |\n",
      "|-------------------------------+----------------------+----------------------+\n",
      "| GPU  Name        Persistence-M| Bus-Id        Disp.A | Volatile Uncorr. ECC |\n",
      "| Fan  Temp  Perf  Pwr:Usage/Cap|         Memory-Usage | GPU-Util  Compute M. |\n",
      "|                               |                      |               MIG M. |\n",
      "|===============================+======================+======================|\n",
      "|   0  Tesla V100-SXM2...  Off  | 00000000:00:04.0 Off |                    0 |\n",
      "| N/A   36C    P0    41W / 300W |      0MiB / 16160MiB |      3%      Default |\n",
      "|                               |                      |                  N/A |\n",
      "+-------------------------------+----------------------+----------------------+\n",
      "                                                                               \n",
      "+-----------------------------------------------------------------------------+\n",
      "| Processes:                                                                  |\n",
      "|  GPU   GI   CI        PID   Type   Process name                  GPU Memory |\n",
      "|        ID   ID                                                   Usage      |\n",
      "|=============================================================================|\n",
      "|  No running processes found                                                 |\n",
      "+-----------------------------------------------------------------------------+\n"
     ]
    }
   ],
   "source": [
    "! nvidia-smi"
   ]
  },
  {
   "cell_type": "markdown",
   "metadata": {},
   "source": [
    "## Modelling Notebook \n",
    "\n",
    "### This Notebook is the 2nd Notebook of the ADL Project and contains the code to build models used to predict the presence tumor \n",
    "\n",
    "#### Name : Prabha Kiranmai Vasireddy\n",
    "#### UNI : pv2342"
   ]
  },
  {
   "cell_type": "markdown",
   "metadata": {},
   "source": [
    "#### The Model Training is done on a GCP VM with V100 Nvidia GPU , the Patches generated in the First Notebook are downloaded on the VM.\n"
   ]
  },
  {
   "cell_type": "code",
   "execution_count": 2,
   "metadata": {
    "id": "NZLdrqLnhtWK"
   },
   "outputs": [],
   "source": [
    "%matplotlib inline\n",
    "import matplotlib.pyplot as plt\n",
    "import numpy as np\n",
    "from openslide import open_slide, __library_version__ as openslide_version\n",
    "import os\n",
    "from PIL import Image\n",
    "from skimage.color import rgb2gray\n",
    "import re\n",
    "# from google.colab import drive\n",
    "import json \n",
    "from tqdm import tqdm\n",
    "import wandb\n",
    "from datetime import datetime\n"
   ]
  },
  {
   "cell_type": "markdown",
   "metadata": {},
   "source": [
    "### Using WandB\n",
    "\n",
    "1. wandb (Weights & Biases) is a platform for tracking, analyzing, and visualizing machine learning experiments.\n",
    "2. It is useful for keeping track of model training and evaluation metrics, as well as any other relevant information such as hyperparameters and hardware specifications.\n",
    "\n",
    "I wanted to try using wandb, to build visualizations and easily compare different models and make visualizations.\n"
   ]
  },
  {
   "cell_type": "code",
   "execution_count": 3,
   "metadata": {
    "colab": {
     "base_uri": "https://localhost:8080/",
     "height": 86
    },
    "id": "2SN79SMbeM93",
    "outputId": "3eb10467-f2ae-410e-debe-8330099f9e7e"
   },
   "outputs": [
    {
     "name": "stderr",
     "output_type": "stream",
     "text": [
      "Failed to detect the name of this notebook, you can set it manually with the WANDB_NOTEBOOK_NAME environment variable to enable code saving.\n",
      "\u001b[34m\u001b[1mwandb\u001b[0m: Currently logged in as: \u001b[33mpv2342\u001b[0m. Use \u001b[1m`wandb login --relogin`\u001b[0m to force relogin\n"
     ]
    },
    {
     "data": {
      "text/plain": [
       "True"
      ]
     },
     "execution_count": 3,
     "metadata": {},
     "output_type": "execute_result"
    }
   ],
   "source": [
    "wandb.login()"
   ]
  },
  {
   "cell_type": "code",
   "execution_count": 4,
   "metadata": {
    "id": "fqFR8E8hiNJr"
   },
   "outputs": [],
   "source": [
    "from tensorflow.keras.preprocessing.image import ImageDataGenerator\n",
    "from tensorflow.keras.applications.inception_v3 import InceptionV3\n",
    "from tensorflow.keras.layers import GlobalAveragePooling2D, concatenate, Input, Dense, Dropout, BatchNormalization, Flatten\n",
    "from tensorflow.keras.models import Sequential, Model\n",
    "from tensorflow.keras.optimizers import Adam, SGD\n",
    "from tensorflow.keras.callbacks import ModelCheckpoint, ReduceLROnPlateau\n",
    "import tensorflow as tf "
   ]
  },
  {
   "cell_type": "code",
   "execution_count": 5,
   "metadata": {
    "colab": {
     "base_uri": "https://localhost:8080/"
    },
    "id": "i3Lm4qcpievP",
    "outputId": "360bd635-62bb-4fd7-a197-1547c53bd22b"
   },
   "outputs": [
    {
     "name": "stdout",
     "output_type": "stream",
     "text": [
      "['patch_val_3.npy', 'patch_val_5.npy', 'patch5.npy', 'label.npy', 'patch_val_4.npy', 'patch3.npy', 'patch4.npy', 'label_val_.npy']\n"
     ]
    }
   ],
   "source": [
    "saving_directory = \"/home/ecbm4040/Kiranmai-ADL/data\"\n",
    "\n",
    "print(os.listdir(saving_directory))"
   ]
  },
  {
   "cell_type": "markdown",
   "metadata": {
    "id": "h3z1Tq2dkU6L"
   },
   "source": [
    "### Deep Learning Models\n",
    "\n",
    "We will be building the following 3 Models.\n",
    "\n",
    "1. Model-1 - Takes only level_3 patch as input \n",
    "2. Model-2 - Takes level_3 and level_4 patches as inputs \n",
    "3. Model-3 - Takes level_3,level_4 and level_5 as inputs \n",
    "\n"
   ]
  },
  {
   "cell_type": "code",
   "execution_count": 6,
   "metadata": {
    "id": "YY-LzEg3iokS"
   },
   "outputs": [],
   "source": [
    "X_train_level_3  = np.load(saving_directory + \"/patch3.npy\")\n",
    "\n",
    "X_val_level_3  = np.load(saving_directory + \"/patch_val_3.npy\")\n",
    "\n",
    "Y_train = np.load(saving_directory + \"/label.npy\")\n",
    "Y_train = Y_train.astype(float)\n",
    "Y_val = np.load(saving_directory + \"/label_val_.npy\")\n",
    "Y_val = Y_val.astype(float)"
   ]
  },
  {
   "cell_type": "code",
   "execution_count": 7,
   "metadata": {
    "colab": {
     "base_uri": "https://localhost:8080/"
    },
    "id": "9N7r0mmqgsa7",
    "outputId": "d9d298f7-57b9-4fa3-ea7f-f9cee2585811"
   },
   "outputs": [
    {
     "data": {
      "text/plain": [
       "4000"
      ]
     },
     "execution_count": 7,
     "metadata": {},
     "output_type": "execute_result"
    }
   ],
   "source": [
    "len(X_train_level_3)"
   ]
  },
  {
   "cell_type": "code",
   "execution_count": 8,
   "metadata": {
    "id": "NrqptbjBoUlY"
   },
   "outputs": [],
   "source": [
    "BATCH_SIZE = 16\n",
    "\n",
    "\n",
    "def orthogonal_rot(image):\n",
    "  rot = np.random.choice([-1, 0, 1,])\n",
    "  new_image  = np.rot90(image, )\n",
    "  new_image = tf.image.random_brightness(new_image,64.0/255)\n",
    "  # new_image = tf.image.random_saturation(new_image,0,0.25,seed=42)\n",
    "  # new_image = tf.image.random_hue(new_image,0.04,seed=42)\n",
    "  new_image = tf.image.random_contrast(new_image,0,0.75,seed=42)\n",
    "  return new_image\n",
    "\n",
    "\n",
    "\n",
    "train_image_gen = ImageDataGenerator(horizontal_flip = True,\n",
    "                                      vertical_flip = True,\n",
    "                                      rescale=1./255,\n",
    "                                      width_shift_range=(-8, 8),\n",
    "                                      height_shift_range=(-8, 8),\n",
    "                                      preprocessing_function=orthogonal_rot) \n",
    "\n",
    "\n",
    "val_image_gen = ImageDataGenerator(rescale=1./255)"
   ]
  },
  {
   "cell_type": "markdown",
   "metadata": {
    "id": "HJ2UFytpomIi"
   },
   "source": [
    "## Model-1 \n",
    "\n",
    "Only one level of Input - level_3"
   ]
  },
  {
   "cell_type": "code",
   "execution_count": 9,
   "metadata": {
    "id": "d2RKMg9ejDc-"
   },
   "outputs": [],
   "source": [
    "def train_image_gen_single_level(X,Y, batch_size = 16, random_seed = 42):\n",
    "  X = train_image_gen.flow(X,Y, seed = random_seed, batch_size=batch_size)\n",
    "  while True:\n",
    "    x,y = X.next()\n",
    "    yield x,y\n",
    "\n",
    "def val_image_gen_single_level(X,Y, batch_size = 16,random_seed = 42):\n",
    "  X = val_image_gen.flow(X,Y, seed = random_seed, batch_size=batch_size)\n",
    "  while True:\n",
    "    x,y = X.next()\n",
    "    yield x,y\n"
   ]
  },
  {
   "cell_type": "code",
   "execution_count": 10,
   "metadata": {
    "id": "F4Dv9GsFnzBM"
   },
   "outputs": [],
   "source": [
    "train_gen = train_image_gen_single_level(X_train_level_3, Y_train)\n",
    "val_gen = val_image_gen_single_level(X_val_level_3, Y_val)"
   ]
  },
  {
   "cell_type": "markdown",
   "metadata": {
    "id": "114U34h63iyj"
   },
   "source": [
    "### Model Creation "
   ]
  },
  {
   "cell_type": "code",
   "execution_count": 12,
   "metadata": {
    "id": "pkwCx-vQ3iHl"
   },
   "outputs": [],
   "source": [
    "def get_model(number_of_images = 1, patch_size = 299):\n",
    "  assert number_of_images <= 3, \"Model defined only for maximum of 3 Zoom Levels\"\n",
    "\n",
    "  visual_extractor_1 = InceptionV3(weights='imagenet',\n",
    "                                    include_top=False,\n",
    "                                    input_shape=(patch_size, patch_size, 3))\n",
    "  visual_extractor_1.trainable = False\n",
    "  model_tower_1 = Sequential()\n",
    "  model_tower_1.add(visual_extractor_1)\n",
    "  model_tower_1.add(GlobalAveragePooling2D())\n",
    "    \n",
    "  input_tower_1 = Input(shape=(patch_size, patch_size, 3))\n",
    "  \n",
    "  encoded_zoom_1 = model_tower_1(input_tower_1)\n",
    "  \n",
    "  encoded_array = [encoded_zoom_1]\n",
    "\n",
    "  if number_of_images >= 2 : \n",
    "    \n",
    "    visual_extractor_2 = InceptionV3(weights='imagenet',\n",
    "                                      include_top=False,\n",
    "                                      input_shape=(patch_size, patch_size, 3))\n",
    "    visual_extractor_2.trainable = False\n",
    "\n",
    "    model_tower_2= Sequential()\n",
    "    model_tower_2.add(visual_extractor_2)\n",
    "    model_tower_2.add(GlobalAveragePooling2D())\n",
    "    input_tower_2 = Input(shape=(patch_size, patch_size, 3))\n",
    "    encoded_zoom_2 = model_tower_2(input_tower_2)\n",
    "    encoded_array.append(encoded_zoom_2)\n",
    "  if number_of_images == 3 : \n",
    "\n",
    "    visual_extractor_3 = InceptionV3(weights='imagenet',\n",
    "                                      include_top=False,\n",
    "                                      input_shape=(patch_size, patch_size, 3))\n",
    "    visual_extractor_3.trainable = False   \n",
    "\n",
    "    model_tower_3= Sequential()\n",
    "    model_tower_3.add(visual_extractor_3)\n",
    "    model_tower_3.add(GlobalAveragePooling2D())\n",
    "    input_tower_3 = Input(shape=(patch_size, patch_size, 3))\n",
    "    encoded_zoom_3 = model_tower_3(input_tower_3)\n",
    "    encoded_array.append(encoded_zoom_3)\n",
    "\n",
    "  if len(encoded_array) == 1 : \n",
    "    merged = encoded_zoom_1\n",
    "  else : \n",
    "    merged = concatenate(encoded_array)\n",
    "  dense1 = Dense(256, activation='relu')(merged)\n",
    "  drop_layer = Dropout(0.5)(dense1)\n",
    "  dense2 = Dense(126, activation='relu')(drop_layer)\n",
    "\n",
    "  output = Dense(1, activation='sigmoid')(dense2)\n",
    "  input_array = [input_tower_1]\n",
    "  if number_of_images >= 2 : input_array.append(input_tower_2)\n",
    "  if number_of_images == 3 : input_array.append(input_tower_3)\n",
    "\n",
    "  model = Model(inputs=input_array, outputs=output)\n",
    "\n",
    "  return model\n",
    "     "
   ]
  },
  {
   "cell_type": "code",
   "execution_count": 12,
   "metadata": {
    "colab": {
     "base_uri": "https://localhost:8080/"
    },
    "id": "kRUSHS636Jyv",
    "outputId": "339a538e-a43f-42ac-b487-a5fd7b2d52e8"
   },
   "outputs": [
    {
     "name": "stdout",
     "output_type": "stream",
     "text": [
      "Model: \"model\"\n",
      "_________________________________________________________________\n",
      "Layer (type)                 Output Shape              Param #   \n",
      "=================================================================\n",
      "input_2 (InputLayer)         [(None, 299, 299, 3)]     0         \n",
      "_________________________________________________________________\n",
      "sequential (Sequential)      (None, 2048)              21802784  \n",
      "_________________________________________________________________\n",
      "dense (Dense)                (None, 256)               524544    \n",
      "_________________________________________________________________\n",
      "dropout (Dropout)            (None, 256)               0         \n",
      "_________________________________________________________________\n",
      "dense_1 (Dense)              (None, 126)               32382     \n",
      "_________________________________________________________________\n",
      "dense_2 (Dense)              (None, 1)                 127       \n",
      "=================================================================\n",
      "Total params: 22,359,837\n",
      "Trainable params: 557,053\n",
      "Non-trainable params: 21,802,784\n",
      "_________________________________________________________________\n"
     ]
    }
   ],
   "source": [
    "model_1 = get_model(number_of_images=1)\n",
    "model_1.summary()"
   ]
  },
  {
   "cell_type": "code",
   "execution_count": 14,
   "metadata": {
    "colab": {
     "base_uri": "https://localhost:8080/",
     "height": 661
    },
    "id": "yol9zdeY6QTo",
    "outputId": "630a341f-decf-43ed-feaa-9c2906bccab9"
   },
   "outputs": [
    {
     "data": {
      "image/png": "[encoded data removed]",
      "text/plain": [
       "<IPython.core.display.Image object>"
      ]
     },
     "execution_count": 14,
     "metadata": {},
     "output_type": "execute_result"
    }
   ],
   "source": [
    "from tensorflow.keras.utils import plot_model\n",
    "plot_model(model_1, to_file='model_1.png')"
   ]
  },
  {
   "cell_type": "code",
   "execution_count": 15,
   "metadata": {
    "id": "JZEyId_r6dgU"
   },
   "outputs": [],
   "source": [
    "model_1.compile(optimizer=Adam(learning_rate=0.0001), loss='binary_crossentropy',metrics=[\"accuracy\",tf.keras.metrics.Precision(),tf.keras.metrics.Recall()])"
   ]
  },
  {
   "cell_type": "code",
   "execution_count": 16,
   "metadata": {
    "id": "mAt1FC5h-EYH"
   },
   "outputs": [],
   "source": []
  },
  {
   "cell_type": "code",
   "execution_count": 17,
   "metadata": {
    "colab": {
     "base_uri": "https://localhost:8080/"
    },
    "id": "fk2fWdoK-Jfn",
    "outputId": "fef24144-3a12-4fb8-dc29-72551fade0b8"
   },
   "outputs": [
    {
     "name": "stdout",
     "output_type": "stream",
     "text": [
      "Epoch:10, Metrics ==>Loss value : 0.4531228542327881, Accuracy value : 0.9375, Precision value : 0.8999999761581421, Recall value : 1.0\n",
      "Epoch:20, Metrics ==>Loss value : 0.3633027672767639, Accuracy value : 0.9375, Precision value : 0.8999999761581421, Recall value : 1.0\n",
      "Epoch:30, Metrics ==>Loss value : 0.22821778059005737, Accuracy value : 1.0, Precision value : 1.0, Recall value : 1.0\n",
      "Epoch:40, Metrics ==>Loss value : 0.12399006634950638, Accuracy value : 1.0, Precision value : 1.0, Recall value : 1.0\n",
      "Epoch:50, Metrics ==>Loss value : 0.10654446482658386, Accuracy value : 1.0, Precision value : 1.0, Recall value : 1.0\n"
     ]
    }
   ],
   "source": [
    "# Checking if the model defined and the losses are correct. \n",
    "\n",
    "images,labels = next(iter(train_gen))\n",
    "for epoch in range(1,60):\n",
    "  metrics = model_1.train_on_batch(x = images, y = labels)\n",
    "  if epoch%10==0 : print(f\"Epoch:{epoch}, Metrics ==>Loss value : {metrics[0]}, Accuracy value : {metrics[1]}, Precision value : {metrics[2]}, Recall value : {metrics[3]}\")"
   ]
  },
  {
   "cell_type": "markdown",
   "metadata": {
    "id": "unJyhnW7Cv4e"
   },
   "source": [
    "### Setup Callbacks \n",
    "\n",
    "We will be using 4 Callbacks \n",
    "\n",
    "1. Checkpoint Callback\n",
    "2. Early Stopping with Val Accuracy \n",
    "3. LR Scheduling - Reduce_LR_on_Plateau with Val Accuracy \n",
    "4. Wandb Callback for Experiment Tracking "
   ]
  },
  {
   "cell_type": "code",
   "execution_count": 13,
   "metadata": {
    "id": "1KYjbJF4A3rC"
   },
   "outputs": [],
   "source": [
    "def get_checkpoint(model_name):\n",
    "  model_directory = \"/home/ecbm4040/Kiranmai-ADL/checkpoints\"\n",
    "\n",
    "  # CHECKPOINT CALLBACK\n",
    "  model_directory = os.path.join(model_directory,model_name)\n",
    "\n",
    "  if not os.path.exists(model_directory):\n",
    "    os.makedirs(model_directory)\n",
    "    \n",
    "  model_path = os.path.join(model_directory, \"weights-{epoch:02d}-{val_accuracy:.2f}.hdf5\")\n",
    "  \n",
    "  checkpoint_callback = tf.keras.callbacks.ModelCheckpoint(filepath=model_path,save_weights_only=True, monitor='val_accuracy', verbose=0)\n",
    "\n",
    "  # EARLY STOPPING \n",
    "  early_stopping_callback = tf.keras.callbacks.EarlyStopping(monitor='val_accuracy',patience=5,mode='max',verbose=1,restore_best_weights=False)\n",
    "\n",
    "  # REDUCE LR ON PLATEAU\n",
    "  reduce_lr_on_plateau_callback = tf.keras.callbacks.ReduceLROnPlateau(monitor='val_accuracy', factor=0.1,patience=3, verbose=0, mode='auto', min_delta=0.0001 )\n",
    "\n",
    "  # wandb logging\n",
    "  project_name = \"Applied_DL_Project\"\n",
    "  now = datetime.now()\n",
    "  date_string = now.strftime(\"%m_%d_%H_%M\")\n",
    "  run_name = f\"{model_name}_{date_string}\"\n",
    "  wandb.init(project=project_name,name=run_name)\n",
    "  wandb_callback = wandb.keras.WandbCallback()\n",
    "  \n",
    "  return [checkpoint_callback,reduce_lr_on_plateau_callback,wandb_callback]\n",
    "  return [checkpoint_callback,early_stopping_callback,reduce_lr_on_plateau_callback,wandb_callback]\n",
    "\n"
   ]
  },
  {
   "cell_type": "code",
   "execution_count": null,
   "metadata": {
    "scrolled": false
   },
   "outputs": [
    {
     "data": {
      "text/html": [
       "Tracking run with wandb version 0.13.7"
      ],
      "text/plain": [
       "<IPython.core.display.HTML object>"
      ]
     },
     "metadata": {},
     "output_type": "display_data"
    },
    {
     "data": {
      "text/html": [
       "Run data is saved locally in <code>/home/ecbm4040/Kiranmai-ADL/wandb/run-20221224_074813-1h8kfrzh</code>"
      ],
      "text/plain": [
       "<IPython.core.display.HTML object>"
      ]
     },
     "metadata": {},
     "output_type": "display_data"
    },
    {
     "data": {
      "text/html": [
       "Syncing run <strong><a href=\"https://wandb.ai/pv2342/Applied_DL_Project/runs/1h8kfrzh\" target=\"_blank\">Inceptionv3_single_patch_12_24_07_48</a></strong> to <a href=\"https://wandb.ai/pv2342/Applied_DL_Project\" target=\"_blank\">Weights & Biases</a> (<a href=\"https://wandb.me/run\" target=\"_blank\">docs</a>)<br/>"
      ],
      "text/plain": [
       "<IPython.core.display.HTML object>"
      ]
     },
     "metadata": {},
     "output_type": "display_data"
    },
    {
     "name": "stderr",
     "output_type": "stream",
     "text": [
      "\u001b[34m\u001b[1mwandb\u001b[0m: \u001b[33mWARNING\u001b[0m The save_model argument by default saves the model in the HDF5 format that cannot save custom objects like subclassed models and custom layers. This behavior will be deprecated in a future release in favor of the SavedModel format. Meanwhile, the HDF5 model is saved as W&B files and the SavedModel as W&B Artifacts.\n"
     ]
    },
    {
     "name": "stdout",
     "output_type": "stream",
     "text": [
      "Epoch 1/25\n",
      "250/250 [==============================] - 80s 306ms/step - loss: 0.6224 - accuracy: 0.6426 - precision_1: 0.6420 - recall_1: 0.6703 - val_loss: 0.6058 - val_accuracy: 0.6340 - val_precision_1: 0.6925 - val_recall_1: 0.4820\n",
      "INFO:tensorflow:Assets written to: /home/ecbm4040/Kiranmai-ADL/wandb/run-20221224_074813-1h8kfrzh/files/model-best/assets\n"
     ]
    },
    {
     "name": "stderr",
     "output_type": "stream",
     "text": [
      "\u001b[34m\u001b[1mwandb\u001b[0m: Adding directory to artifact (/home/ecbm4040/Kiranmai-ADL/wandb/run-20221224_074813-1h8kfrzh/files/model-best)... Done. 0.6s\n"
     ]
    },
    {
     "name": "stdout",
     "output_type": "stream",
     "text": [
      "Epoch 2/25\n",
      "250/250 [==============================] - 74s 295ms/step - loss: 0.4582 - accuracy: 0.7913 - precision_1: 0.7721 - recall_1: 0.8235 - val_loss: 0.6568 - val_accuracy: 0.6290 - val_precision_1: 0.6745 - val_recall_1: 0.5099\n",
      "Epoch 3/25\n",
      "250/250 [==============================] - 74s 296ms/step - loss: 0.3864 - accuracy: 0.8291 - precision_1: 0.8230 - recall_1: 0.8399 - val_loss: 0.6535 - val_accuracy: 0.6740 - val_precision_1: 0.7285 - val_recall_1: 0.5464\n",
      "Epoch 4/25\n",
      "250/250 [==============================] - 74s 297ms/step - loss: 0.3507 - accuracy: 0.8447 - precision_1: 0.8377 - recall_1: 0.8502 - val_loss: 0.7906 - val_accuracy: 0.6830 - val_precision_1: 0.7737 - val_recall_1: 0.5101\n",
      "Epoch 5/25\n",
      "250/250 [==============================] - 74s 296ms/step - loss: 0.3126 - accuracy: 0.8672 - precision_1: 0.8582 - recall_1: 0.8863 - val_loss: 0.7450 - val_accuracy: 0.6640 - val_precision_1: 0.6998 - val_recall_1: 0.5674\n",
      "Epoch 6/25\n",
      "250/250 [==============================] - 74s 296ms/step - loss: 0.2806 - accuracy: 0.8749 - precision_1: 0.8666 - recall_1: 0.8835 - val_loss: 0.8579 - val_accuracy: 0.6940 - val_precision_1: 0.8438 - val_recall_1: 0.4821\n",
      "Epoch 7/25\n",
      "250/250 [==============================] - 74s 295ms/step - loss: 0.2765 - accuracy: 0.8763 - precision_1: 0.8679 - recall_1: 0.8787 - val_loss: 0.7891 - val_accuracy: 0.6740 - val_precision_1: 0.7310 - val_recall_1: 0.5669\n",
      "Epoch 8/25\n",
      "250/250 [==============================] - 74s 296ms/step - loss: 0.2672 - accuracy: 0.8852 - precision_1: 0.8753 - recall_1: 0.8985 - val_loss: 0.9554 - val_accuracy: 0.6920 - val_precision_1: 0.8252 - val_recall_1: 0.4777\n",
      "Epoch 9/25\n",
      "250/250 [==============================] - 73s 295ms/step - loss: 0.2395 - accuracy: 0.8993 - precision_1: 0.8931 - recall_1: 0.9012 - val_loss: 0.9765 - val_accuracy: 0.7130 - val_precision_1: 0.8557 - val_recall_1: 0.5179\n",
      "Epoch 10/25\n",
      "250/250 [==============================] - 73s 295ms/step - loss: 0.2227 - accuracy: 0.8965 - precision_1: 0.8886 - recall_1: 0.9033 - val_loss: 1.0324 - val_accuracy: 0.6850 - val_precision_1: 0.7846 - val_recall_1: 0.5100\n",
      "Epoch 12/25\n",
      "250/250 [==============================] - 74s 295ms/step - loss: 0.2003 - accuracy: 0.9193 - precision_1: 0.9113 - recall_1: 0.9239 - val_loss: 0.8995 - val_accuracy: 0.7090 - val_precision_1: 0.8000 - val_recall_1: 0.5447\n",
      "Epoch 13/25\n",
      " 65/250 [======>.......................] - ETA: 53s - loss: 0.1992 - accuracy: 0.9144 - precision_1: 0.9024 - recall_1: 0.9217"
     ]
    }
   ],
   "source": [
    "train_gen = train_image_gen_single_level(X_train_level_3, Y_train)\n",
    "val_gen = val_image_gen_single_level(X_val_level_3, Y_val)\n",
    "\n",
    "model_1 = get_model(number_of_images=1)\n",
    "model_1.compile(optimizer=Adam(learning_rate=0.0001), loss='binary_crossentropy',metrics=[\"accuracy\",tf.keras.metrics.Precision(),tf.keras.metrics.Recall()])\n",
    "\n",
    "callbacks_array = get_checkpoint(\"Inceptionv3_single_patch\")\n",
    "\n",
    "history = model_1.fit(train_gen,\n",
    "                                  epochs=25,\n",
    "                                  validation_data=val_gen, \n",
    "                                  steps_per_epoch = len(X_train_level_3) / BATCH_SIZE, \n",
    "                                  validation_steps=len(X_val_level_3) / BATCH_SIZE, \n",
    "                                  callbacks = callbacks_array)"
   ]
  },
  {
   "cell_type": "code",
   "execution_count": null,
   "metadata": {},
   "outputs": [],
   "source": [
    "wandb.finish()"
   ]
  },
  {
   "cell_type": "markdown",
   "metadata": {
    "id": "nUd7mdc11E-n"
   },
   "source": [
    "## Model - 2 "
   ]
  },
  {
   "cell_type": "code",
   "execution_count": 10,
   "metadata": {
    "id": "gqRKhnkfgR5y"
   },
   "outputs": [],
   "source": [
    "# X_train_level_3  = np.load(saving_directory + \"/patch3.npy\")\n",
    "X_train_level_4  = np.load(saving_directory + \"/patch4.npy\")\n",
    "# # X_train_level_5  = np.load(saving_directory + \"/patch5.npy\")\n",
    "\n",
    "\n",
    "# X_val_level_3  = np.load(saving_directory + \"/patch_val_3.npy\")\n",
    "X_val_level_4  = np.load(saving_directory + \"/patch_val_4.npy\")\n",
    "# # X_val_level_5  = np.load(saving_directory + \"/patch_val_5.npy\")\n",
    "\n",
    "# Y_train = np.load(saving_directory + \"/label.npy\")\n",
    "# Y_train = Y_train.astype(float)\n",
    "# Y_val = np.load(saving_directory + \"/label_val_.npy\")\n",
    "# Y_val = Y_val.astype(float)"
   ]
  },
  {
   "cell_type": "code",
   "execution_count": 11,
   "metadata": {
    "id": "9_CAF7Ic1TTC"
   },
   "outputs": [],
   "source": [
    "BATCH_SIZE = 16\n",
    "\n",
    "\n",
    "def orthogonal_rot(image,seed):\n",
    "  rot = tf.random.categorical([-1, 0, 1,],seed=seed)\n",
    "  new_image  = np.rot90(image,rot)\n",
    "  new_image = tf.image.stateless_random_brightness(new_image,64.0/255,seed=seed)\n",
    "  new_image = tf.image.random_contrast(new_image,0,0.75,seed=seed)\n",
    "  return new_image\n",
    "\n",
    "\n",
    "\n",
    "train_image_gen = ImageDataGenerator(horizontal_flip = True,\n",
    "                                      vertical_flip = True,\n",
    "                                      rescale=1./255,\n",
    "                                      width_shift_range=(-8, 8),\n",
    "                                      height_shift_range=(-8, 8),\n",
    "                                      preprocessing_function=None) \n",
    "\n",
    "\n",
    "val_image_gen = ImageDataGenerator(rescale=1./255)"
   ]
  },
  {
   "cell_type": "code",
   "execution_count": 12,
   "metadata": {
    "id": "YZktFGLr1Wer"
   },
   "outputs": [],
   "source": [
    "def train_image_gen_two_levels(X,X_z,Y, batch_size = 16, random_seed = 42):\n",
    "  X = train_image_gen.flow(X,Y, seed = random_seed, batch_size=batch_size)\n",
    "  X_z = train_image_gen.flow(X_z, seed = random_seed, batch_size=batch_size)\n",
    "  while True:\n",
    "    x,y = X.next()\n",
    "    x_z = X_z.next()\n",
    "    yield (x,x_z),y\n",
    "\n",
    "def val_image_gen_two_levels(X,X_z,Y, batch_size = 16,random_seed = 42):\n",
    "  X = val_image_gen.flow(X,Y, seed = random_seed, batch_size=batch_size)\n",
    "  X_z = val_image_gen.flow(X_z, seed = random_seed, batch_size=batch_size)\n",
    "  while True:\n",
    "    x,y = X.next()\n",
    "    x_z = X_z.next()\n",
    "    yield (x,x_z),y\n"
   ]
  },
  {
   "cell_type": "code",
   "execution_count": 13,
   "metadata": {
    "id": "y9jBvpEX1YtX"
   },
   "outputs": [],
   "source": [
    "train_gen = train_image_gen_two_levels(X_train_level_3,X_train_level_4, Y_train,)\n",
    "val_gen = val_image_gen_two_levels(X_val_level_3,X_val_level_4,Y_val,)"
   ]
  },
  {
   "cell_type": "code",
   "execution_count": 14,
   "metadata": {
    "id": "GZIrppQ718lA"
   },
   "outputs": [
    {
     "data": {
      "image/png": "[encoded data removed]",
      "text/plain": [
       "<Figure size 432x288 with 2 Axes>"
      ]
     },
     "metadata": {
      "needs_background": "light"
     },
     "output_type": "display_data"
    }
   ],
   "source": [
    "for (x,x_z),y in train_gen:\n",
    "  plt.subplot(1, 2, 1)\n",
    "  plt.imshow(x[3])\n",
    "  plt.subplot(1, 2, 2)\n",
    "  plt.imshow(x_z[3])\n",
    "  break"
   ]
  },
  {
   "cell_type": "markdown",
   "metadata": {
    "id": "114U34h63iyj"
   },
   "source": [
    "### Model Creation  - Model 2"
   ]
  },
  {
   "cell_type": "code",
   "execution_count": 15,
   "metadata": {},
   "outputs": [
    {
     "name": "stdout",
     "output_type": "stream",
     "text": [
      "Model: \"model\"\n",
      "__________________________________________________________________________________________________\n",
      "Layer (type)                    Output Shape         Param #     Connected to                     \n",
      "==================================================================================================\n",
      "input_2 (InputLayer)            [(None, 299, 299, 3) 0                                            \n",
      "__________________________________________________________________________________________________\n",
      "input_4 (InputLayer)            [(None, 299, 299, 3) 0                                            \n",
      "__________________________________________________________________________________________________\n",
      "sequential (Sequential)         (None, 2048)         21802784    input_2[0][0]                    \n",
      "__________________________________________________________________________________________________\n",
      "sequential_1 (Sequential)       (None, 2048)         21802784    input_4[0][0]                    \n",
      "__________________________________________________________________________________________________\n",
      "concatenate_4 (Concatenate)     (None, 4096)         0           sequential[0][0]                 \n",
      "                                                                 sequential_1[0][0]               \n",
      "__________________________________________________________________________________________________\n",
      "dense (Dense)                   (None, 256)          1048832     concatenate_4[0][0]              \n",
      "__________________________________________________________________________________________________\n",
      "dropout (Dropout)               (None, 256)          0           dense[0][0]                      \n",
      "__________________________________________________________________________________________________\n",
      "dense_1 (Dense)                 (None, 126)          32382       dropout[0][0]                    \n",
      "__________________________________________________________________________________________________\n",
      "dense_2 (Dense)                 (None, 1)            127         dense_1[0][0]                    \n",
      "==================================================================================================\n",
      "Total params: 44,686,909\n",
      "Trainable params: 1,081,341\n",
      "Non-trainable params: 43,605,568\n",
      "__________________________________________________________________________________________________\n"
     ]
    }
   ],
   "source": [
    "model_2 = get_model(number_of_images=2)\n",
    "model_2.summary()"
   ]
  },
  {
   "cell_type": "code",
   "execution_count": 16,
   "metadata": {},
   "outputs": [
    {
     "data": {
      "image/png": "[encoded data removed]",
      "text/plain": [
       "<IPython.core.display.Image object>"
      ]
     },
     "execution_count": 16,
     "metadata": {},
     "output_type": "execute_result"
    }
   ],
   "source": [
    "from tensorflow.keras.utils import plot_model\n",
    "plot_model(model_2, to_file='model_2.png')"
   ]
  },
  {
   "cell_type": "code",
   "execution_count": 17,
   "metadata": {},
   "outputs": [],
   "source": [
    "model_2.compile(optimizer=Adam(learning_rate=0.0001), loss='binary_crossentropy',metrics=[\"accuracy\",tf.keras.metrics.Precision(),tf.keras.metrics.Recall()])"
   ]
  },
  {
   "cell_type": "code",
   "execution_count": 18,
   "metadata": {},
   "outputs": [
    {
     "name": "stdout",
     "output_type": "stream",
     "text": [
      "Epoch:5, Metrics ==>Loss value : 0.5216351747512817, Accuracy value : 0.75, Precision value : 0.800000011920929, Recall value : 0.5714285969734192\n",
      "Epoch:10, Metrics ==>Loss value : 0.38717058300971985, Accuracy value : 0.9375, Precision value : 1.0, Recall value : 0.8571428656578064\n",
      "Epoch:15, Metrics ==>Loss value : 0.26014888286590576, Accuracy value : 1.0, Precision value : 1.0, Recall value : 1.0\n",
      "Epoch:20, Metrics ==>Loss value : 0.19909259676933289, Accuracy value : 1.0, Precision value : 1.0, Recall value : 1.0\n",
      "Epoch:25, Metrics ==>Loss value : 0.1160508319735527, Accuracy value : 1.0, Precision value : 1.0, Recall value : 1.0\n",
      "Epoch:30, Metrics ==>Loss value : 0.06333395838737488, Accuracy value : 1.0, Precision value : 1.0, Recall value : 1.0\n",
      "Epoch:35, Metrics ==>Loss value : 0.0766095370054245, Accuracy value : 1.0, Precision value : 1.0, Recall value : 1.0\n",
      "Epoch:40, Metrics ==>Loss value : 0.04412584379315376, Accuracy value : 1.0, Precision value : 1.0, Recall value : 1.0\n",
      "Epoch:45, Metrics ==>Loss value : 0.03311220556497574, Accuracy value : 1.0, Precision value : 1.0, Recall value : 1.0\n",
      "Epoch:50, Metrics ==>Loss value : 0.020471397787332535, Accuracy value : 1.0, Precision value : 1.0, Recall value : 1.0\n",
      "Epoch:55, Metrics ==>Loss value : 0.04644032567739487, Accuracy value : 1.0, Precision value : 1.0, Recall value : 1.0\n"
     ]
    }
   ],
   "source": [
    "images,labels = next(iter(train_gen))\n",
    "\n",
    "\n",
    "for epoch in range(1,60):\n",
    "  metrics = model_2.train_on_batch(x = images, y = labels)\n",
    "  if epoch%5==0 : print(f\"Epoch:{epoch}, Metrics ==>Loss value : {metrics[0]}, Accuracy value : {metrics[1]}, Precision value : {metrics[2]}, Recall value : {metrics[3]}\")"
   ]
  },
  {
   "cell_type": "code",
   "execution_count": 20,
   "metadata": {},
   "outputs": [
    {
     "data": {
      "text/html": [
       "Tracking run with wandb version 0.13.7"
      ],
      "text/plain": [
       "<IPython.core.display.HTML object>"
      ]
     },
     "metadata": {},
     "output_type": "display_data"
    },
    {
     "data": {
      "text/html": [
       "Run data is saved locally in <code>/home/ecbm4040/Kiranmai-ADL/wandb/run-20221227_193037-3h8ef5mg</code>"
      ],
      "text/plain": [
       "<IPython.core.display.HTML object>"
      ]
     },
     "metadata": {},
     "output_type": "display_data"
    },
    {
     "data": {
      "text/html": [
       "Syncing run <strong><a href=\"https://wandb.ai/pv2342/Applied_DL_Project/runs/3h8ef5mg\" target=\"_blank\">Inceptionv3_two_patch_12_27_19_30</a></strong> to <a href=\"https://wandb.ai/pv2342/Applied_DL_Project\" target=\"_blank\">Weights & Biases</a> (<a href=\"https://wandb.me/run\" target=\"_blank\">docs</a>)<br/>"
      ],
      "text/plain": [
       "<IPython.core.display.HTML object>"
      ]
     },
     "metadata": {},
     "output_type": "display_data"
    },
    {
     "name": "stderr",
     "output_type": "stream",
     "text": [
      "\u001b[34m\u001b[1mwandb\u001b[0m: \u001b[33mWARNING\u001b[0m The save_model argument by default saves the model in the HDF5 format that cannot save custom objects like subclassed models and custom layers. This behavior will be deprecated in a future release in favor of the SavedModel format. Meanwhile, the HDF5 model is saved as W&B files and the SavedModel as W&B Artifacts.\n"
     ]
    },
    {
     "name": "stdout",
     "output_type": "stream",
     "text": [
      "Epoch 1/25\n",
      "250/250 [==============================] - 143s 545ms/step - loss: 0.5812 - accuracy: 0.6850 - precision_1: 0.6779 - recall_1: 0.7122 - val_loss: 0.7044 - val_accuracy: 0.6330 - val_precision_1: 0.6822 - val_recall_1: 0.4980\n",
      "INFO:tensorflow:Assets written to: /home/ecbm4040/Kiranmai-ADL/wandb/run-20221227_193037-3h8ef5mg/files/model-best/assets\n"
     ]
    },
    {
     "name": "stderr",
     "output_type": "stream",
     "text": [
      "\u001b[34m\u001b[1mwandb\u001b[0m: Adding directory to artifact (/home/ecbm4040/Kiranmai-ADL/wandb/run-20221227_193037-3h8ef5mg/files/model-best)... Done. 1.3s\n"
     ]
    },
    {
     "name": "stdout",
     "output_type": "stream",
     "text": [
      "Epoch 2/25\n",
      "250/250 [==============================] - 130s 523ms/step - loss: 0.3331 - accuracy: 0.8650 - precision_1: 0.8736 - recall_1: 0.8584 - val_loss: 0.8486 - val_accuracy: 0.6420 - val_precision_1: 0.7417 - val_recall_1: 0.4444\n",
      "Epoch 3/25\n",
      "250/250 [==============================] - 131s 525ms/step - loss: 0.2264 - accuracy: 0.9171 - precision_1: 0.9145 - recall_1: 0.9215 - val_loss: 0.9746 - val_accuracy: 0.6730 - val_precision_1: 0.8189 - val_recall_1: 0.4375\n",
      "Epoch 4/25\n",
      "250/250 [==============================] - 130s 523ms/step - loss: 0.1981 - accuracy: 0.9206 - precision_1: 0.9225 - recall_1: 0.9190 - val_loss: 0.8448 - val_accuracy: 0.6600 - val_precision_1: 0.7549 - val_recall_1: 0.4657\n",
      "Epoch 5/25\n",
      "250/250 [==============================] - 132s 528ms/step - loss: 0.1477 - accuracy: 0.9506 - precision_1: 0.9517 - recall_1: 0.9515 - val_loss: 1.3509 - val_accuracy: 0.7030 - val_precision_1: 0.9386 - val_recall_1: 0.4306\n",
      "Epoch 6/25\n",
      "250/250 [==============================] - 130s 524ms/step - loss: 0.1555 - accuracy: 0.9418 - precision_1: 0.9440 - recall_1: 0.9377 - val_loss: 1.3039 - val_accuracy: 0.7090 - val_precision_1: 0.9494 - val_recall_1: 0.4464\n",
      "Epoch 7/25\n",
      "250/250 [==============================] - 129s 520ms/step - loss: 0.1118 - accuracy: 0.9596 - precision_1: 0.9604 - recall_1: 0.9567 - val_loss: 0.9597 - val_accuracy: 0.6860 - val_precision_1: 0.8012 - val_recall_1: 0.5079\n",
      "Epoch 8/25\n",
      "250/250 [==============================] - 130s 523ms/step - loss: 0.1132 - accuracy: 0.9592 - precision_1: 0.9614 - recall_1: 0.9584 - val_loss: 1.2846 - val_accuracy: 0.6940 - val_precision_1: 0.8588 - val_recall_1: 0.4555\n",
      "Epoch 9/25\n",
      "250/250 [==============================] - 130s 524ms/step - loss: 0.1192 - accuracy: 0.9592 - precision_1: 0.9540 - recall_1: 0.9624 - val_loss: 1.0701 - val_accuracy: 0.7110 - val_precision_1: 0.8595 - val_recall_1: 0.5099\n",
      "Epoch 10/25\n",
      "250/250 [==============================] - 130s 523ms/step - loss: 0.0978 - accuracy: 0.9651 - precision_1: 0.9619 - recall_1: 0.9694 - val_loss: 1.0957 - val_accuracy: 0.6980 - val_precision_1: 0.8864 - val_recall_1: 0.4625\n",
      "Epoch 11/25\n",
      "250/250 [==============================] - 129s 518ms/step - loss: 0.0927 - accuracy: 0.9675 - precision_1: 0.9707 - recall_1: 0.9635 - val_loss: 1.8933 - val_accuracy: 0.7120 - val_precision_1: 0.9649 - val_recall_1: 0.4400\n",
      "Epoch 12/25\n",
      "250/250 [==============================] - 131s 524ms/step - loss: 0.0712 - accuracy: 0.9752 - precision_1: 0.9752 - recall_1: 0.9747 - val_loss: 1.5337 - val_accuracy: 0.7230 - val_precision_1: 0.9424 - val_recall_1: 0.4654\n",
      "Epoch 13/25\n",
      "250/250 [==============================] - 130s 522ms/step - loss: 0.0836 - accuracy: 0.9727 - precision_1: 0.9693 - recall_1: 0.9771 - val_loss: 1.7262 - val_accuracy: 0.6850 - val_precision_1: 0.8819 - val_recall_1: 0.4401\n",
      "Epoch 14/25\n",
      "250/250 [==============================] - 129s 519ms/step - loss: 0.0809 - accuracy: 0.9691 - precision_1: 0.9676 - recall_1: 0.9713 - val_loss: 1.7055 - val_accuracy: 0.6990 - val_precision_1: 0.8626 - val_recall_1: 0.4603\n",
      "Epoch 15/25\n",
      "250/250 [==============================] - 130s 520ms/step - loss: 0.0649 - accuracy: 0.9756 - precision_1: 0.9724 - recall_1: 0.9790 - val_loss: 1.6888 - val_accuracy: 0.7070 - val_precision_1: 0.9268 - val_recall_1: 0.4533\n",
      "Epoch 16/25\n",
      "250/250 [==============================] - 130s 520ms/step - loss: 0.0712 - accuracy: 0.9720 - precision_1: 0.9741 - recall_1: 0.9697 - val_loss: 1.6535 - val_accuracy: 0.7080 - val_precision_1: 0.9461 - val_recall_1: 0.4497\n",
      "Epoch 17/25\n",
      "250/250 [==============================] - 129s 520ms/step - loss: 0.0547 - accuracy: 0.9816 - precision_1: 0.9821 - recall_1: 0.9817 - val_loss: 1.5428 - val_accuracy: 0.7030 - val_precision_1: 0.8943 - val_recall_1: 0.4481\n",
      "Epoch 18/25\n",
      "250/250 [==============================] - 131s 525ms/step - loss: 0.0457 - accuracy: 0.9840 - precision_1: 0.9818 - recall_1: 0.9857 - val_loss: 1.7154 - val_accuracy: 0.7050 - val_precision_1: 0.9205 - val_recall_1: 0.4435\n",
      "Epoch 19/25\n",
      "250/250 [==============================] - 130s 520ms/step - loss: 0.0508 - accuracy: 0.9818 - precision_1: 0.9816 - recall_1: 0.9812 - val_loss: 1.6292 - val_accuracy: 0.7050 - val_precision_1: 0.9180 - val_recall_1: 0.4617\n",
      "Epoch 20/25\n",
      "250/250 [==============================] - 129s 520ms/step - loss: 0.0369 - accuracy: 0.9882 - precision_1: 0.9931 - recall_1: 0.9836 - val_loss: 1.6955 - val_accuracy: 0.6990 - val_precision_1: 0.9407 - val_recall_1: 0.4361\n",
      "Epoch 21/25\n",
      "250/250 [==============================] - 130s 522ms/step - loss: 0.0392 - accuracy: 0.9868 - precision_1: 0.9869 - recall_1: 0.9862 - val_loss: 1.5569 - val_accuracy: 0.7240 - val_precision_1: 0.9180 - val_recall_1: 0.4796\n",
      "Epoch 22/25\n",
      "250/250 [==============================] - 129s 519ms/step - loss: 0.0469 - accuracy: 0.9874 - precision_1: 0.9840 - recall_1: 0.9904 - val_loss: 1.7064 - val_accuracy: 0.7000 - val_precision_1: 0.9207 - val_recall_1: 0.4257\n",
      "Epoch 23/25\n",
      "250/250 [==============================] - 130s 522ms/step - loss: 0.0616 - accuracy: 0.9809 - precision_1: 0.9848 - recall_1: 0.9770 - val_loss: 1.6765 - val_accuracy: 0.7070 - val_precision_1: 0.9320 - val_recall_1: 0.4578\n",
      "Epoch 24/25\n",
      "250/250 [==============================] - 129s 518ms/step - loss: 0.0439 - accuracy: 0.9860 - precision_1: 0.9852 - recall_1: 0.9870 - val_loss: 1.5840 - val_accuracy: 0.7080 - val_precision_1: 0.9132 - val_recall_1: 0.4492\n",
      "Epoch 25/25\n",
      "250/250 [==============================] - 130s 522ms/step - loss: 0.0412 - accuracy: 0.9896 - precision_1: 0.9875 - recall_1: 0.9916 - val_loss: 1.6903 - val_accuracy: 0.7100 - val_precision_1: 0.9209 - val_recall_1: 0.4632\n"
     ]
    }
   ],
   "source": [
    "model_2 = get_model(number_of_images=2)\n",
    "\n",
    "model_2.compile(optimizer=Adam(learning_rate=0.0001), loss='binary_crossentropy',metrics=[\"accuracy\",tf.keras.metrics.Precision(),tf.keras.metrics.Recall()])\n",
    "\n",
    "callbacks_array = get_checkpoint(\"Inceptionv3_two_patch\")\n",
    "\n",
    "history = model_2.fit(train_gen,\n",
    "                                  epochs=25,\n",
    "                                  validation_data=val_gen, \n",
    "                                  steps_per_epoch = len(X_train_level_3) / BATCH_SIZE, \n",
    "                                  validation_steps=len(X_val_level_3) / BATCH_SIZE, \n",
    "                                  callbacks = callbacks_array)"
   ]
  },
  {
   "cell_type": "code",
   "execution_count": 21,
   "metadata": {},
   "outputs": [
    {
     "data": {
      "text/html": [
       "Waiting for W&B process to finish... <strong style=\"color:green\">(success).</strong>"
      ],
      "text/plain": [
       "<IPython.core.display.HTML object>"
      ]
     },
     "metadata": {},
     "output_type": "display_data"
    },
    {
     "data": {
      "text/html": [
       "<style>\n",
       "    table.wandb td:nth-child(1) { padding: 0 10px; text-align: left ; width: auto;} td:nth-child(2) {text-align: left ; width: 100%}\n",
       "    .wandb-row { display: flex; flex-direction: row; flex-wrap: wrap; justify-content: flex-start; width: 100% }\n",
       "    .wandb-col { display: flex; flex-direction: column; flex-basis: 100%; flex: 1; padding: 10px; }\n",
       "    </style>\n",
       "<div class=\"wandb-row\"><div class=\"wandb-col\"><h3>Run history:</h3><br/><table class=\"wandb\"><tr><td>accuracy</td><td>▁▅▆▆▇▇▇▇▇▇▇▇█▇███████████</td></tr><tr><td>epoch</td><td>▁▁▂▂▂▂▃▃▃▄▄▄▅▅▅▅▆▆▆▇▇▇▇██</td></tr><tr><td>loss</td><td>█▅▄▃▃▃▂▂▂▂▂▂▂▂▁▁▁▁▁▁▁▁▁▁▁</td></tr><tr><td>lr</td><td>███████████████▂▂▂▁▁▁▁▁▁▁</td></tr><tr><td>precision_1</td><td>▁▅▆▆▇▇▇▇▇▇▇▇▇▇███████████</td></tr><tr><td>recall_1</td><td>▁▅▆▆▇▇▇▇▇▇▇▇█▇███████████</td></tr><tr><td>val_accuracy</td><td>▁▂▄▃▆▇▅▆▇▆▇█▅▆▇▇▆▇▇▆█▆▇▇▇</td></tr><tr><td>val_loss</td><td>▁▂▃▂▅▅▃▄▃▃█▆▇▇▇▇▆▇▆▇▆▇▇▆▇</td></tr><tr><td>val_precision_1</td><td>▁▂▄▃▇█▄▅▅▆█▇▆▅▇█▆▇▇▇▇▇▇▇▇</td></tr><tr><td>val_recall_1</td><td>▇▃▂▄▁▃█▃█▄▂▄▂▄▃▃▃▂▄▂▅▁▄▃▄</td></tr></table><br/></div><div class=\"wandb-col\"><h3>Run summary:</h3><br/><table class=\"wandb\"><tr><td>accuracy</td><td>0.9885</td></tr><tr><td>best_epoch</td><td>0</td></tr><tr><td>best_val_loss</td><td>0.70444</td></tr><tr><td>epoch</td><td>24</td></tr><tr><td>loss</td><td>0.04271</td></tr><tr><td>lr</td><td>0.0</td></tr><tr><td>precision_1</td><td>0.99048</td></tr><tr><td>recall_1</td><td>0.98653</td></tr><tr><td>val_accuracy</td><td>0.71</td></tr><tr><td>val_loss</td><td>1.69027</td></tr><tr><td>val_precision_1</td><td>0.92095</td></tr><tr><td>val_recall_1</td><td>0.46322</td></tr></table><br/></div></div>"
      ],
      "text/plain": [
       "<IPython.core.display.HTML object>"
      ]
     },
     "metadata": {},
     "output_type": "display_data"
    },
    {
     "data": {
      "text/html": [
       "Synced <strong style=\"color:#cdcd00\">Inceptionv3_two_patch_12_27_19_30</strong>: <a href=\"https://wandb.ai/pv2342/Applied_DL_Project/runs/3h8ef5mg\" target=\"_blank\">https://wandb.ai/pv2342/Applied_DL_Project/runs/3h8ef5mg</a><br/>Synced 5 W&B file(s), 1 media file(s), 3 artifact file(s) and 1 other file(s)"
      ],
      "text/plain": [
       "<IPython.core.display.HTML object>"
      ]
     },
     "metadata": {},
     "output_type": "display_data"
    },
    {
     "data": {
      "text/html": [
       "Find logs at: <code>./wandb/run-20221227_193037-3h8ef5mg/logs</code>"
      ],
      "text/plain": [
       "<IPython.core.display.HTML object>"
      ]
     },
     "metadata": {},
     "output_type": "display_data"
    }
   ],
   "source": [
    "wandb.finish()"
   ]
  },
  {
   "cell_type": "code",
   "execution_count": 22,
   "metadata": {},
   "outputs": [],
   "source": [
    "model_2.save(\"Inceptionv3_two_patch_12_27_19_30.h5\")"
   ]
  },
  {
   "cell_type": "markdown",
   "metadata": {},
   "source": [
    "### Model 3"
   ]
  },
  {
   "cell_type": "code",
   "execution_count": 6,
   "metadata": {},
   "outputs": [],
   "source": [
    "X_train_level_3  = np.load(saving_directory + \"/patch3.npy\")\n",
    "X_train_level_4  = np.load(saving_directory + \"/patch4.npy\")\n",
    "X_train_level_5  = np.load(saving_directory + \"/patch5.npy\")\n",
    "\n",
    "\n",
    "X_val_level_3  = np.load(saving_directory + \"/patch_val_3.npy\")\n",
    "X_val_level_4  = np.load(saving_directory + \"/patch_val_4.npy\")\n",
    "X_val_level_5  = np.load(saving_directory + \"/patch_val_5.npy\")\n",
    "\n",
    "Y_train = np.load(saving_directory + \"/label.npy\")\n",
    "Y_train = Y_train.astype(float)\n",
    "Y_val = np.load(saving_directory + \"/label_val_.npy\")\n",
    "Y_val = Y_val.astype(float)"
   ]
  },
  {
   "cell_type": "code",
   "execution_count": 7,
   "metadata": {},
   "outputs": [],
   "source": [
    "BATCH_SIZE = 16\n",
    "\n",
    "def orthogonal_rot(image,seed):\n",
    "  rot = tf.random.categorical([-1, 0, 1,],seed=seed)\n",
    "  new_image  = np.rot90(image,rot)\n",
    "  new_image = tf.image.stateless_random_brightness(new_image,64.0/255,seed=seed)\n",
    "  # new_image = tf.image.random_saturation(new_image,0,0.25,seed=42)\n",
    "  # new_image = tf.image.random_hue(new_image,0.04,seed=42)\n",
    "  new_image = tf.image.random_contrast(new_image,0,0.75,seed=seed)\n",
    "  return new_image\n",
    "\n",
    "\n",
    "\n",
    "train_image_gen = ImageDataGenerator(horizontal_flip = True,\n",
    "                                      vertical_flip = True,\n",
    "                                      rescale=1./255,\n",
    "                                      width_shift_range=(-8, 8),\n",
    "                                      height_shift_range=(-8, 8),\n",
    "                                      preprocessing_function=None) \n",
    "\n",
    "\n",
    "val_image_gen = ImageDataGenerator(rescale=1./255)"
   ]
  },
  {
   "cell_type": "code",
   "execution_count": 8,
   "metadata": {},
   "outputs": [],
   "source": [
    "def train_image_gen_three_levels(X,X_z,X_zz,Y, batch_size = 16, random_seed = 42):\n",
    "  X = train_image_gen.flow(X,Y, seed = random_seed, batch_size=batch_size)\n",
    "  X_z = train_image_gen.flow(X_z, seed = random_seed, batch_size=batch_size)\n",
    "  X_zz = train_image_gen.flow(X_zz, seed = random_seed, batch_size=batch_size)\n",
    "  while True:\n",
    "    x,y = X.next()\n",
    "    x_z = X_z.next()\n",
    "    x_zz = X_zz.next()\n",
    "    yield (x,x_z,x_zz),y\n",
    "\n",
    "def val_image_gen_three_levels(X,X_z,X_zz,Y, batch_size = 16,random_seed = 42):\n",
    "  X = val_image_gen.flow(X,Y, seed = random_seed, batch_size=batch_size)\n",
    "  X_z = val_image_gen.flow(X_z, seed = random_seed, batch_size=batch_size)\n",
    "  X_zz = val_image_gen.flow(X_zz, seed = random_seed, batch_size=batch_size)\n",
    "\n",
    "  while True:\n",
    "    x,y = X.next()\n",
    "    x_z = X_z.next()\n",
    "    x_zz = X_zz.next()\n",
    "    yield (x,x_z,x_zz),y\n"
   ]
  },
  {
   "cell_type": "code",
   "execution_count": 9,
   "metadata": {},
   "outputs": [],
   "source": [
    "def unison_shuffled_copies(X_train_level_3,X_train_level_4,X_train_level_5, Y_train):\n",
    "    assert len(X_train_level_3) == len(X_train_level_4)\n",
    "    assert len(X_train_level_3) == len(X_train_level_5)\n",
    "    assert len(X_train_level_3) == len(Y_train)\n",
    "    p = np.random.permutation(len(X_train_level_3))\n",
    "    return X_train_level_3[p], X_train_level_4[p], X_train_level_5[p],Y_train[p]\n",
    "\n",
    "X_train_level_3,X_train_level_4,X_train_level_5, Y_train = unison_shuffled_copies(X_train_level_3,X_train_level_4,X_train_level_5, Y_train)"
   ]
  },
  {
   "cell_type": "code",
   "execution_count": 10,
   "metadata": {},
   "outputs": [],
   "source": [
    "train_gen = train_image_gen_three_levels(X_train_level_3,X_train_level_4,X_train_level_5, Y_train,)\n",
    "val_gen = val_image_gen_three_levels(X_val_level_3,X_val_level_4,X_val_level_5,Y_val,)"
   ]
  },
  {
   "cell_type": "markdown",
   "metadata": {},
   "source": [
    "### Model Creation - Model 3"
   ]
  },
  {
   "cell_type": "code",
   "execution_count": 12,
   "metadata": {},
   "outputs": [
    {
     "name": "stdout",
     "output_type": "stream",
     "text": [
      "Model: \"model\"\n",
      "__________________________________________________________________________________________________\n",
      "Layer (type)                    Output Shape         Param #     Connected to                     \n",
      "==================================================================================================\n",
      "input_2 (InputLayer)            [(None, 299, 299, 3) 0                                            \n",
      "__________________________________________________________________________________________________\n",
      "input_4 (InputLayer)            [(None, 299, 299, 3) 0                                            \n",
      "__________________________________________________________________________________________________\n",
      "input_6 (InputLayer)            [(None, 299, 299, 3) 0                                            \n",
      "__________________________________________________________________________________________________\n",
      "sequential (Sequential)         (None, 2048)         21802784    input_2[0][0]                    \n",
      "__________________________________________________________________________________________________\n",
      "sequential_1 (Sequential)       (None, 2048)         21802784    input_4[0][0]                    \n",
      "__________________________________________________________________________________________________\n",
      "sequential_2 (Sequential)       (None, 2048)         21802784    input_6[0][0]                    \n",
      "__________________________________________________________________________________________________\n",
      "concatenate_6 (Concatenate)     (None, 6144)         0           sequential[0][0]                 \n",
      "                                                                 sequential_1[0][0]               \n",
      "                                                                 sequential_2[0][0]               \n",
      "__________________________________________________________________________________________________\n",
      "dense (Dense)                   (None, 256)          1573120     concatenate_6[0][0]              \n",
      "__________________________________________________________________________________________________\n",
      "dropout (Dropout)               (None, 256)          0           dense[0][0]                      \n",
      "__________________________________________________________________________________________________\n",
      "dense_1 (Dense)                 (None, 126)          32382       dropout[0][0]                    \n",
      "__________________________________________________________________________________________________\n",
      "dense_2 (Dense)                 (None, 1)            127         dense_1[0][0]                    \n",
      "==================================================================================================\n",
      "Total params: 67,013,981\n",
      "Trainable params: 1,605,629\n",
      "Non-trainable params: 65,408,352\n",
      "__________________________________________________________________________________________________\n"
     ]
    }
   ],
   "source": [
    "model_3 = get_model(number_of_images=3)\n",
    "model_3.summary()"
   ]
  },
  {
   "cell_type": "code",
   "execution_count": 13,
   "metadata": {},
   "outputs": [
    {
     "data": {
      "image/png": "[encoded data removed]",
      "text/plain": [
       "<IPython.core.display.Image object>"
      ]
     },
     "execution_count": 13,
     "metadata": {},
     "output_type": "execute_result"
    }
   ],
   "source": [
    "from tensorflow.keras.utils import plot_model\n",
    "plot_model(model_3, to_file='model_3.png')"
   ]
  },
  {
   "cell_type": "code",
   "execution_count": 14,
   "metadata": {},
   "outputs": [],
   "source": [
    "model_3.compile(optimizer=Adam(learning_rate=0.0001), loss='binary_crossentropy',metrics=[\"accuracy\",tf.keras.metrics.Precision(),tf.keras.metrics.Recall()])"
   ]
  },
  {
   "cell_type": "code",
   "execution_count": 15,
   "metadata": {},
   "outputs": [
    {
     "name": "stdout",
     "output_type": "stream",
     "text": [
      "Epoch:5, Metrics ==>Loss value : 0.5772087574005127, Accuracy value : 0.75, Precision value : 0.8571428656578064, Recall value : 0.6666666865348816\n",
      "Epoch:10, Metrics ==>Loss value : 0.30243557691574097, Accuracy value : 0.875, Precision value : 0.8181818127632141, Recall value : 1.0\n",
      "Epoch:15, Metrics ==>Loss value : 0.1727336198091507, Accuracy value : 1.0, Precision value : 1.0, Recall value : 1.0\n",
      "Epoch:20, Metrics ==>Loss value : 0.19110341370105743, Accuracy value : 1.0, Precision value : 1.0, Recall value : 1.0\n",
      "Epoch:25, Metrics ==>Loss value : 0.10751129686832428, Accuracy value : 1.0, Precision value : 1.0, Recall value : 1.0\n",
      "Epoch:30, Metrics ==>Loss value : 0.05784449353814125, Accuracy value : 1.0, Precision value : 1.0, Recall value : 1.0\n",
      "Epoch:35, Metrics ==>Loss value : 0.036125440150499344, Accuracy value : 1.0, Precision value : 1.0, Recall value : 1.0\n",
      "Epoch:40, Metrics ==>Loss value : 0.03984886407852173, Accuracy value : 1.0, Precision value : 1.0, Recall value : 1.0\n",
      "Epoch:45, Metrics ==>Loss value : 0.02267679013311863, Accuracy value : 1.0, Precision value : 1.0, Recall value : 1.0\n",
      "Epoch:50, Metrics ==>Loss value : 0.02806180715560913, Accuracy value : 1.0, Precision value : 1.0, Recall value : 1.0\n",
      "Epoch:55, Metrics ==>Loss value : 0.033726029098033905, Accuracy value : 1.0, Precision value : 1.0, Recall value : 1.0\n"
     ]
    }
   ],
   "source": [
    "images,labels = next(iter(train_gen))\n",
    "\n",
    "\n",
    "for epoch in range(1,60):\n",
    "  metrics = model_3.train_on_batch(x = images, y = labels)\n",
    "  if epoch%5==0 : print(f\"Epoch:{epoch}, Metrics ==>Loss value : {metrics[0]}, Accuracy value : {metrics[1]}, Precision value : {metrics[2]}, Recall value : {metrics[3]}\")"
   ]
  },
  {
   "cell_type": "code",
   "execution_count": 17,
   "metadata": {
    "scrolled": false
   },
   "outputs": [
    {
     "data": {
      "text/html": [
       "Finishing last run (ID:1mepy9tz) before initializing another..."
      ],
      "text/plain": [
       "<IPython.core.display.HTML object>"
      ]
     },
     "metadata": {},
     "output_type": "display_data"
    },
    {
     "data": {
      "text/html": [
       "Waiting for W&B process to finish... <strong style=\"color:green\">(success).</strong>"
      ],
      "text/plain": [
       "<IPython.core.display.HTML object>"
      ]
     },
     "metadata": {},
     "output_type": "display_data"
    },
    {
     "data": {
      "text/html": [
       "<style>\n",
       "    table.wandb td:nth-child(1) { padding: 0 10px; text-align: left ; width: auto;} td:nth-child(2) {text-align: left ; width: 100%}\n",
       "    .wandb-row { display: flex; flex-direction: row; flex-wrap: wrap; justify-content: flex-start; width: 100% }\n",
       "    .wandb-col { display: flex; flex-direction: column; flex-basis: 100%; flex: 1; padding: 10px; }\n",
       "    </style>\n",
       "<div class=\"wandb-row\"><div class=\"wandb-col\"><h3>Run history:</h3><br/><table class=\"wandb\"><tr><td>accuracy</td><td>▁</td></tr><tr><td>epoch</td><td>▁</td></tr><tr><td>loss</td><td>▁</td></tr><tr><td>lr</td><td>▁</td></tr><tr><td>precision</td><td>▁</td></tr><tr><td>recall</td><td>▁</td></tr><tr><td>val_accuracy</td><td>▁</td></tr><tr><td>val_loss</td><td>▁</td></tr><tr><td>val_precision</td><td>▁</td></tr><tr><td>val_recall</td><td>▁</td></tr></table><br/></div><div class=\"wandb-col\"><h3>Run summary:</h3><br/><table class=\"wandb\"><tr><td>accuracy</td><td>0.77375</td></tr><tr><td>best_epoch</td><td>0</td></tr><tr><td>best_val_loss</td><td>0.99769</td></tr><tr><td>epoch</td><td>0</td></tr><tr><td>loss</td><td>0.52039</td></tr><tr><td>lr</td><td>0.001</td></tr><tr><td>precision</td><td>0.76957</td></tr><tr><td>recall</td><td>0.7815</td></tr><tr><td>val_accuracy</td><td>0.68</td></tr><tr><td>val_loss</td><td>0.99769</td></tr><tr><td>val_precision</td><td>0.85156</td></tr><tr><td>val_recall</td><td>0.436</td></tr></table><br/></div></div>"
      ],
      "text/plain": [
       "<IPython.core.display.HTML object>"
      ]
     },
     "metadata": {},
     "output_type": "display_data"
    },
    {
     "data": {
      "text/html": [
       "Synced <strong style=\"color:#cdcd00\">Inceptionv3_three_patch_12_27_22_11</strong>: <a href=\"https://wandb.ai/pv2342/Applied_DL_Project/runs/1mepy9tz\" target=\"_blank\">https://wandb.ai/pv2342/Applied_DL_Project/runs/1mepy9tz</a><br/>Synced 5 W&B file(s), 1 media file(s), 0 artifact file(s) and 1 other file(s)"
      ],
      "text/plain": [
       "<IPython.core.display.HTML object>"
      ]
     },
     "metadata": {},
     "output_type": "display_data"
    },
    {
     "data": {
      "text/html": [
       "Find logs at: <code>./wandb/run-20221227_221134-1mepy9tz/logs</code>"
      ],
      "text/plain": [
       "<IPython.core.display.HTML object>"
      ]
     },
     "metadata": {},
     "output_type": "display_data"
    },
    {
     "data": {
      "text/html": [
       "Successfully finished last run (ID:1mepy9tz). Initializing new run:<br/>"
      ],
      "text/plain": [
       "<IPython.core.display.HTML object>"
      ]
     },
     "metadata": {},
     "output_type": "display_data"
    },
    {
     "data": {
      "application/vnd.jupyter.widget-view+json": {
       "model_id": "a07854a8762d49729c7d9b454d839316",
       "version_major": 2,
       "version_minor": 0
      },
      "text/plain": [
       "VBox(children=(Label(value='Waiting for wandb.init()...\\r'), FloatProgress(value=0.016668768699999722, max=1.0…"
      ]
     },
     "metadata": {},
     "output_type": "display_data"
    },
    {
     "data": {
      "text/html": [
       "Tracking run with wandb version 0.13.7"
      ],
      "text/plain": [
       "<IPython.core.display.HTML object>"
      ]
     },
     "metadata": {},
     "output_type": "display_data"
    },
    {
     "data": {
      "text/html": [
       "Run data is saved locally in <code>/home/ecbm4040/Kiranmai-ADL/wandb/run-20221227_221752-1454rswm</code>"
      ],
      "text/plain": [
       "<IPython.core.display.HTML object>"
      ]
     },
     "metadata": {},
     "output_type": "display_data"
    },
    {
     "data": {
      "text/html": [
       "Syncing run <strong><a href=\"https://wandb.ai/pv2342/Applied_DL_Project/runs/1454rswm\" target=\"_blank\">Inceptionv3_three_patch_12_27_22_17</a></strong> to <a href=\"https://wandb.ai/pv2342/Applied_DL_Project\" target=\"_blank\">Weights & Biases</a> (<a href=\"https://wandb.me/run\" target=\"_blank\">docs</a>)<br/>"
      ],
      "text/plain": [
       "<IPython.core.display.HTML object>"
      ]
     },
     "metadata": {},
     "output_type": "display_data"
    },
    {
     "name": "stdout",
     "output_type": "stream",
     "text": [
      "Epoch 1/25\n",
      "250/250 [==============================] - 211s 805ms/step - loss: 0.8367 - accuracy: 0.6564 - precision_1: 0.6509 - recall_1: 0.6723 - val_loss: 0.7874 - val_accuracy: 0.6390 - val_precision_1: 0.7563 - val_recall_1: 0.4187\n",
      "INFO:tensorflow:Assets written to: /home/ecbm4040/Kiranmai-ADL/wandb/run-20221227_221752-1454rswm/files/model-best/assets\n"
     ]
    },
    {
     "name": "stderr",
     "output_type": "stream",
     "text": [
      "\u001b[34m\u001b[1mwandb\u001b[0m: Adding directory to artifact (/home/ecbm4040/Kiranmai-ADL/wandb/run-20221227_221752-1454rswm/files/model-best)... Done. 2.2s\n"
     ]
    },
    {
     "name": "stdout",
     "output_type": "stream",
     "text": [
      "Epoch 2/25\n",
      "250/250 [==============================] - 193s 774ms/step - loss: 0.3603 - accuracy: 0.8504 - precision_1: 0.8519 - recall_1: 0.8574 - val_loss: 1.1090 - val_accuracy: 0.6220 - val_precision_1: 0.6766 - val_recall_1: 0.4556\n",
      "Epoch 3/25\n",
      "250/250 [==============================] - 192s 770ms/step - loss: 0.2656 - accuracy: 0.8884 - precision_1: 0.8727 - recall_1: 0.9074 - val_loss: 1.1211 - val_accuracy: 0.6470 - val_precision_1: 0.7407 - val_recall_1: 0.4435\n",
      "Epoch 4/25\n",
      "250/250 [==============================] - 193s 774ms/step - loss: 0.2271 - accuracy: 0.8918 - precision_1: 0.8643 - recall_1: 0.9240 - val_loss: 0.6810 - val_accuracy: 0.6190 - val_precision_1: 0.6716 - val_recall_1: 0.4567\n",
      "INFO:tensorflow:Assets written to: /home/ecbm4040/Kiranmai-ADL/wandb/run-20221227_221752-1454rswm/files/model-best/assets\n"
     ]
    },
    {
     "name": "stderr",
     "output_type": "stream",
     "text": [
      "\u001b[34m\u001b[1mwandb\u001b[0m: Adding directory to artifact (/home/ecbm4040/Kiranmai-ADL/wandb/run-20221227_221752-1454rswm/files/model-best)... Done. 2.3s\n"
     ]
    },
    {
     "name": "stdout",
     "output_type": "stream",
     "text": [
      "Epoch 5/25\n",
      "250/250 [==============================] - 193s 773ms/step - loss: 0.2356 - accuracy: 0.8816 - precision_1: 0.9164 - recall_1: 0.8387 - val_loss: 1.1216 - val_accuracy: 0.7000 - val_precision_1: 0.9080 - val_recall_1: 0.4504\n",
      "Epoch 6/25\n",
      "250/250 [==============================] - 192s 773ms/step - loss: 0.2208 - accuracy: 0.9096 - precision_1: 0.9275 - recall_1: 0.8886 - val_loss: 0.8295 - val_accuracy: 0.6740 - val_precision_1: 0.8297 - val_recall_1: 0.4508\n",
      "Epoch 7/25\n",
      "250/250 [==============================] - 193s 775ms/step - loss: 0.2249 - accuracy: 0.9062 - precision_1: 0.9310 - recall_1: 0.8803 - val_loss: 1.2364 - val_accuracy: 0.6770 - val_precision_1: 0.8087 - val_recall_1: 0.4534\n",
      "Epoch 8/25\n",
      "250/250 [==============================] - 192s 771ms/step - loss: 0.2037 - accuracy: 0.9020 - precision_1: 0.9337 - recall_1: 0.8674 - val_loss: 1.1640 - val_accuracy: 0.6910 - val_precision_1: 0.8470 - val_recall_1: 0.4722\n",
      "Epoch 9/25\n",
      "250/250 [==============================] - 191s 767ms/step - loss: 0.1595 - accuracy: 0.9435 - precision_1: 0.9494 - recall_1: 0.9327 - val_loss: 1.2775 - val_accuracy: 0.6870 - val_precision_1: 0.8535 - val_recall_1: 0.4605\n",
      "Epoch 10/25\n",
      "250/250 [==============================] - 191s 769ms/step - loss: 0.1727 - accuracy: 0.9369 - precision_1: 0.9586 - recall_1: 0.9148 - val_loss: 1.3593 - val_accuracy: 0.6930 - val_precision_1: 0.8939 - val_recall_1: 0.4380\n",
      "Epoch 11/25\n",
      "250/250 [==============================] - 191s 769ms/step - loss: 0.1361 - accuracy: 0.9554 - precision_1: 0.9606 - recall_1: 0.9502 - val_loss: 1.3400 - val_accuracy: 0.7010 - val_precision_1: 0.8587 - val_recall_1: 0.4695\n",
      "Epoch 12/25\n",
      "250/250 [==============================] - 192s 773ms/step - loss: 0.1215 - accuracy: 0.9537 - precision_1: 0.9702 - recall_1: 0.9361 - val_loss: 1.4448 - val_accuracy: 0.6760 - val_precision_1: 0.8439 - val_recall_1: 0.4460\n",
      "Epoch 13/25\n",
      "250/250 [==============================] - 192s 771ms/step - loss: 0.1160 - accuracy: 0.9564 - precision_1: 0.9644 - recall_1: 0.9466 - val_loss: 1.4927 - val_accuracy: 0.6910 - val_precision_1: 0.8500 - val_recall_1: 0.4501\n",
      "Epoch 14/25\n",
      "250/250 [==============================] - 191s 768ms/step - loss: 0.1122 - accuracy: 0.9569 - precision_1: 0.9677 - recall_1: 0.9435 - val_loss: 1.3680 - val_accuracy: 0.6820 - val_precision_1: 0.8269 - val_recall_1: 0.4652\n",
      "Epoch 15/25\n",
      "250/250 [==============================] - 191s 768ms/step - loss: 0.1178 - accuracy: 0.9604 - precision_1: 0.9680 - recall_1: 0.9517 - val_loss: 1.4914 - val_accuracy: 0.6960 - val_precision_1: 0.8919 - val_recall_1: 0.4556\n",
      "Epoch 16/25\n",
      "250/250 [==============================] - 192s 770ms/step - loss: 0.1042 - accuracy: 0.9633 - precision_1: 0.9679 - recall_1: 0.9606 - val_loss: 1.5215 - val_accuracy: 0.6950 - val_precision_1: 0.8750 - val_recall_1: 0.4420\n",
      "Epoch 17/25\n",
      "250/250 [==============================] - 191s 766ms/step - loss: 0.1063 - accuracy: 0.9631 - precision_1: 0.9722 - recall_1: 0.9534 - val_loss: 1.6133 - val_accuracy: 0.6910 - val_precision_1: 0.8696 - val_recall_1: 0.4435\n",
      "Epoch 18/25\n",
      "250/250 [==============================] - 192s 769ms/step - loss: 0.1058 - accuracy: 0.9601 - precision_1: 0.9778 - recall_1: 0.9443 - val_loss: 1.5560 - val_accuracy: 0.6960 - val_precision_1: 0.8810 - val_recall_1: 0.4656\n",
      "Epoch 19/25\n",
      "250/250 [==============================] - 192s 770ms/step - loss: 0.1031 - accuracy: 0.9655 - precision_1: 0.9764 - recall_1: 0.9533 - val_loss: 1.6323 - val_accuracy: 0.6830 - val_precision_1: 0.8750 - val_recall_1: 0.4401\n",
      "Epoch 20/25\n",
      "250/250 [==============================] - 191s 767ms/step - loss: 0.0996 - accuracy: 0.9659 - precision_1: 0.9747 - recall_1: 0.9574 - val_loss: 1.4637 - val_accuracy: 0.7170 - val_precision_1: 0.8966 - val_recall_1: 0.4776\n",
      "Epoch 21/25\n",
      "250/250 [==============================] - 194s 777ms/step - loss: 0.1047 - accuracy: 0.9649 - precision_1: 0.9766 - recall_1: 0.9528 - val_loss: 1.6466 - val_accuracy: 0.6830 - val_precision_1: 0.8537 - val_recall_1: 0.4277\n",
      "Epoch 22/25\n",
      "250/250 [==============================] - 194s 778ms/step - loss: 0.1027 - accuracy: 0.9649 - precision_1: 0.9729 - recall_1: 0.9546 - val_loss: 1.6040 - val_accuracy: 0.6940 - val_precision_1: 0.8859 - val_recall_1: 0.4578\n",
      "Epoch 23/25\n",
      "250/250 [==============================] - 195s 782ms/step - loss: 0.0992 - accuracy: 0.9645 - precision_1: 0.9742 - recall_1: 0.9525 - val_loss: 1.5547 - val_accuracy: 0.6950 - val_precision_1: 0.8667 - val_recall_1: 0.4492\n",
      "Epoch 24/25\n",
      "250/250 [==============================] - 194s 778ms/step - loss: 0.1024 - accuracy: 0.9591 - precision_1: 0.9719 - recall_1: 0.9465 - val_loss: 1.6256 - val_accuracy: 0.6960 - val_precision_1: 0.8812 - val_recall_1: 0.4573\n",
      "Epoch 25/25\n",
      "250/250 [==============================] - 193s 774ms/step - loss: 0.0929 - accuracy: 0.9651 - precision_1: 0.9729 - recall_1: 0.9547 - val_loss: 1.5810 - val_accuracy: 0.6930 - val_precision_1: 0.8721 - val_recall_1: 0.4509\n"
     ]
    }
   ],
   "source": [
    "model_3 = get_model(number_of_images=3)\n",
    "\n",
    "model_3.compile(optimizer=Adam(learning_rate=0.001), loss='binary_crossentropy',metrics=[\"accuracy\",tf.keras.metrics.Precision(),tf.keras.metrics.Recall()])\n",
    "\n",
    "callbacks_array = get_checkpoint(\"Inceptionv3_three_patch\")\n",
    "\n",
    "history = model_3.fit(train_gen,\n",
    "                                  epochs=25,\n",
    "                                  validation_data=val_gen, \n",
    "                                  steps_per_epoch = len(X_train_level_3) / BATCH_SIZE, \n",
    "                                  validation_steps=len(X_val_level_3) / BATCH_SIZE, \n",
    "                                  callbacks = callbacks_array)"
   ]
  },
  {
   "cell_type": "code",
   "execution_count": 18,
   "metadata": {},
   "outputs": [
    {
     "data": {
      "text/html": [
       "Waiting for W&B process to finish... <strong style=\"color:green\">(success).</strong>"
      ],
      "text/plain": [
       "<IPython.core.display.HTML object>"
      ]
     },
     "metadata": {},
     "output_type": "display_data"
    },
    {
     "data": {
      "application/vnd.jupyter.widget-view+json": {
       "model_id": "4e54c476c4ed4212a2fc9ed3ce54074c",
       "version_major": 2,
       "version_minor": 0
      },
      "text/plain": [
       "VBox(children=(Label(value='855.820 MB of 855.821 MB uploaded (0.000 MB deduped)\\r'), FloatProgress(value=0.99…"
      ]
     },
     "metadata": {},
     "output_type": "display_data"
    },
    {
     "data": {
      "text/html": [
       "<style>\n",
       "    table.wandb td:nth-child(1) { padding: 0 10px; text-align: left ; width: auto;} td:nth-child(2) {text-align: left ; width: 100%}\n",
       "    .wandb-row { display: flex; flex-direction: row; flex-wrap: wrap; justify-content: flex-start; width: 100% }\n",
       "    .wandb-col { display: flex; flex-direction: column; flex-basis: 100%; flex: 1; padding: 10px; }\n",
       "    </style>\n",
       "<div class=\"wandb-row\"><div class=\"wandb-col\"><h3>Run history:</h3><br/><table class=\"wandb\"><tr><td>accuracy</td><td>▁▅▅▆▆▆▆▆▇▇███████████████</td></tr><tr><td>epoch</td><td>▁▁▂▂▂▂▃▃▃▄▄▄▅▅▅▅▆▆▆▇▇▇▇██</td></tr><tr><td>loss</td><td>█▄▃▃▃▃▃▃▂▂▁▁▁▁▁▁▁▁▁▁▁▁▁▁▁</td></tr><tr><td>lr</td><td>████████▂▂▂▂▂▂▁▁▁▁▁▁▁▁▁▁▁</td></tr><tr><td>precision_1</td><td>▁▅▅▅▆▆▇▇▇████████████████</td></tr><tr><td>recall_1</td><td>▁▄▆▆▅▆▅▅▇▇███████████████</td></tr><tr><td>val_accuracy</td><td>▂▁▃▁▇▅▅▆▆▆▇▅▆▅▆▆▆▆▆█▆▆▆▆▆</td></tr><tr><td>val_loss</td><td>▂▄▄▁▄▂▅▅▅▆▆▇▇▆▇▇█▇█▇██▇██</td></tr><tr><td>val_precision_1</td><td>▄▁▃▁█▆▅▆▆█▇▆▆▆█▇▇▇▇█▆▇▇▇▇</td></tr><tr><td>val_recall_1</td><td>▁▅▄▆▅▅▅▇▆▃▇▄▅▇▅▄▄▇▄█▂▆▅▆▅</td></tr></table><br/></div><div class=\"wandb-col\"><h3>Run summary:</h3><br/><table class=\"wandb\"><tr><td>accuracy</td><td>0.96425</td></tr><tr><td>best_epoch</td><td>3</td></tr><tr><td>best_val_loss</td><td>0.68103</td></tr><tr><td>epoch</td><td>24</td></tr><tr><td>loss</td><td>0.10208</td></tr><tr><td>lr</td><td>0.0</td></tr><tr><td>precision_1</td><td>0.97542</td></tr><tr><td>recall_1</td><td>0.9525</td></tr><tr><td>val_accuracy</td><td>0.693</td></tr><tr><td>val_loss</td><td>1.58096</td></tr><tr><td>val_precision_1</td><td>0.87209</td></tr><tr><td>val_recall_1</td><td>0.4509</td></tr></table><br/></div></div>"
      ],
      "text/plain": [
       "<IPython.core.display.HTML object>"
      ]
     },
     "metadata": {},
     "output_type": "display_data"
    },
    {
     "data": {
      "text/html": [
       "Synced <strong style=\"color:#cdcd00\">Inceptionv3_three_patch_12_27_22_17</strong>: <a href=\"https://wandb.ai/pv2342/Applied_DL_Project/runs/1454rswm\" target=\"_blank\">https://wandb.ai/pv2342/Applied_DL_Project/runs/1454rswm</a><br/>Synced 5 W&B file(s), 1 media file(s), 6 artifact file(s) and 1 other file(s)"
      ],
      "text/plain": [
       "<IPython.core.display.HTML object>"
      ]
     },
     "metadata": {},
     "output_type": "display_data"
    },
    {
     "data": {
      "text/html": [
       "Find logs at: <code>./wandb/run-20221227_221752-1454rswm/logs</code>"
      ],
      "text/plain": [
       "<IPython.core.display.HTML object>"
      ]
     },
     "metadata": {},
     "output_type": "display_data"
    }
   ],
   "source": [
    "wandb.finish()"
   ]
  },
  {
   "cell_type": "code",
   "execution_count": 19,
   "metadata": {},
   "outputs": [],
   "source": [
    "model_3.save(\"Inceptionv3_three_patch_12_27_22_00.h5\")"
   ]
  }
 ],
 "metadata": {
  "accelerator": "GPU",
  "colab": {
   "provenance": []
  },
  "gpuClass": "standard",
  "kernelspec": {
   "display_name": "Python 3",
   "language": "python",
   "name": "python3"
  },
  "language_info": {
   "codemirror_mode": {
    "name": "ipython",
    "version": 3
   },
   "file_extension": ".py",
   "mimetype": "text/x-python",
   "name": "python",
   "nbconvert_exporter": "python",
   "pygments_lexer": "ipython3",
   "version": "3.6.9"
  }
 },
 "nbformat": 4,
 "nbformat_minor": 1
}
